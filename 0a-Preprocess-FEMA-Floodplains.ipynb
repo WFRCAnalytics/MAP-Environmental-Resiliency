{
 "cells": [
  {
   "cell_type": "code",
   "execution_count": 1,
   "metadata": {},
   "outputs": [],
   "source": [
    "import pandas as pd\n",
    "import os\n",
    "import numpy as np\n",
    "\n",
    "import arcpy\n",
    "\n",
    "#import arcgis libraries\n",
    "from arcgis.gis import *\n",
    "gis = GIS()"
   ]
  },
  {
   "attachments": {},
   "cell_type": "markdown",
   "metadata": {},
   "source": [
    "FEMA county data downloaded from: https://hazards-fema.maps.arcgis.com/apps/webappviewer/index.html"
   ]
  },
  {
   "cell_type": "code",
   "execution_count": 4,
   "metadata": {},
   "outputs": [],
   "source": [
    "dirFPData = r\"data\\FEMA-Floodplains\"\n",
    "fnFPshp = 'S_FLD_HAZ_AR.shp'\n",
    "dFilterField = 'FLD_ZONE'\n",
    "dFilterValues = ['AE','AH','AO','VE']\n",
    "dCountyDataFolders = ['49003C_20211216','49011C_20230202','49035C_20230228','49057C_20221002']"
   ]
  },
  {
   "attachments": {},
   "cell_type": "markdown",
   "metadata": {},
   "source": [
    "FLD_ZONE\n",
    "* AE: An area inundated by the 1% annual chance flood event (also known as the base flood), with base flood depths determined.\n",
    "* AH: An area inundated by shallow flooding (usually areas of ponding), with average depths between 1 and 3 feet.\n",
    "* AO: An area inundated by shallow flooding (usually sheet flow on sloping terrain), with average depths between 1 and 3 feet.\n",
    "* VE: An area inundated by the 1% annual chance coastal flood event (i.e., a coastal flood zone), with wave heights determined."
   ]
  },
  {
   "cell_type": "code",
   "execution_count": 18,
   "metadata": {},
   "outputs": [
    {
     "data": {
      "text/plain": [
       "'data\\\\FEMA-Floodplains\\\\49003C_20211216\\\\S_FLD_HAZ_AR.shp'"
      ]
     },
     "metadata": {},
     "output_type": "display_data"
    },
    {
     "data": {
      "text/plain": [
       "'data\\\\FEMA-Floodplains\\\\49011C_20230202\\\\S_FLD_HAZ_AR.shp'"
      ]
     },
     "metadata": {},
     "output_type": "display_data"
    },
    {
     "data": {
      "text/plain": [
       "'data\\\\FEMA-Floodplains\\\\49035C_20230228\\\\S_FLD_HAZ_AR.shp'"
      ]
     },
     "metadata": {},
     "output_type": "display_data"
    },
    {
     "data": {
      "text/plain": [
       "'data\\\\FEMA-Floodplains\\\\49057C_20221002\\\\S_FLD_HAZ_AR.shp'"
      ]
     },
     "metadata": {},
     "output_type": "display_data"
    },
    {
     "data": {
      "text/html": [
       "<div>\n",
       "<style scoped>\n",
       "    .dataframe tbody tr th:only-of-type {\n",
       "        vertical-align: middle;\n",
       "    }\n",
       "\n",
       "    .dataframe tbody tr th {\n",
       "        vertical-align: top;\n",
       "    }\n",
       "\n",
       "    .dataframe thead th {\n",
       "        text-align: right;\n",
       "    }\n",
       "</style>\n",
       "<table border=\"1\" class=\"dataframe\">\n",
       "  <thead>\n",
       "    <tr style=\"text-align: right;\">\n",
       "      <th></th>\n",
       "      <th>FLD_ZONE</th>\n",
       "      <th>ZONE_SUBTY</th>\n",
       "      <th>SHAPE</th>\n",
       "    </tr>\n",
       "  </thead>\n",
       "  <tbody>\n",
       "    <tr>\n",
       "      <th>3</th>\n",
       "      <td>AE</td>\n",
       "      <td></td>\n",
       "      <td>{\"rings\": [[[-112.00594133954911, 41.512344881...</td>\n",
       "    </tr>\n",
       "    <tr>\n",
       "      <th>7</th>\n",
       "      <td>AO</td>\n",
       "      <td></td>\n",
       "      <td>{\"rings\": [[[-112.03332770865279, 41.529668771...</td>\n",
       "    </tr>\n",
       "    <tr>\n",
       "      <th>12</th>\n",
       "      <td>AE</td>\n",
       "      <td></td>\n",
       "      <td>{\"rings\": [[[-112.04725340927484, 41.420503870...</td>\n",
       "    </tr>\n",
       "    <tr>\n",
       "      <th>13</th>\n",
       "      <td>AE</td>\n",
       "      <td>FLOODWAY</td>\n",
       "      <td>{\"rings\": [[[-112.05047130333901, 41.421027506...</td>\n",
       "    </tr>\n",
       "    <tr>\n",
       "      <th>15</th>\n",
       "      <td>AO</td>\n",
       "      <td></td>\n",
       "      <td>{\"rings\": [[[-112.05030796747081, 41.416624391...</td>\n",
       "    </tr>\n",
       "    <tr>\n",
       "      <th>...</th>\n",
       "      <td>...</td>\n",
       "      <td>...</td>\n",
       "      <td>...</td>\n",
       "    </tr>\n",
       "    <tr>\n",
       "      <th>243</th>\n",
       "      <td>AE</td>\n",
       "      <td>FLOODWAY</td>\n",
       "      <td>{\"rings\": [[[-111.98661020983803, 41.221223217...</td>\n",
       "    </tr>\n",
       "    <tr>\n",
       "      <th>244</th>\n",
       "      <td>AE</td>\n",
       "      <td></td>\n",
       "      <td>{\"rings\": [[[-111.9861457578827, 41.2212887943...</td>\n",
       "    </tr>\n",
       "    <tr>\n",
       "      <th>247</th>\n",
       "      <td>AE</td>\n",
       "      <td>FLOODWAY</td>\n",
       "      <td>{\"rings\": [[[-111.960105376392, 41.23657570883...</td>\n",
       "    </tr>\n",
       "    <tr>\n",
       "      <th>248</th>\n",
       "      <td>AE</td>\n",
       "      <td>FLOODWAY</td>\n",
       "      <td>{\"rings\": [[[-111.94575207146443, 41.236817386...</td>\n",
       "    </tr>\n",
       "    <tr>\n",
       "      <th>443</th>\n",
       "      <td>AE</td>\n",
       "      <td></td>\n",
       "      <td>{\"rings\": [[[-111.71797309501625, 41.253039716...</td>\n",
       "    </tr>\n",
       "  </tbody>\n",
       "</table>\n",
       "<p>2145 rows × 3 columns</p>\n",
       "</div>"
      ],
      "text/plain": [
       "    FLD_ZONE ZONE_SUBTY                                              SHAPE\n",
       "3         AE             {\"rings\": [[[-112.00594133954911, 41.512344881...\n",
       "7         AO             {\"rings\": [[[-112.03332770865279, 41.529668771...\n",
       "12        AE             {\"rings\": [[[-112.04725340927484, 41.420503870...\n",
       "13        AE   FLOODWAY  {\"rings\": [[[-112.05047130333901, 41.421027506...\n",
       "15        AO             {\"rings\": [[[-112.05030796747081, 41.416624391...\n",
       "..       ...        ...                                                ...\n",
       "243       AE   FLOODWAY  {\"rings\": [[[-111.98661020983803, 41.221223217...\n",
       "244       AE             {\"rings\": [[[-111.9861457578827, 41.2212887943...\n",
       "247       AE   FLOODWAY  {\"rings\": [[[-111.960105376392, 41.23657570883...\n",
       "248       AE   FLOODWAY  {\"rings\": [[[-111.94575207146443, 41.236817386...\n",
       "443       AE             {\"rings\": [[[-111.71797309501625, 41.253039716...\n",
       "\n",
       "[2145 rows x 3 columns]"
      ]
     },
     "metadata": {},
     "output_type": "display_data"
    }
   ],
   "source": [
    "sdfFP = pd.DataFrame()\n",
    "\n",
    "for c in dCountyDataFolders:\n",
    "    _fn = os.path.join(os.path.join(dirFPData,c),fnFPshp)\n",
    "    display(_fn)\n",
    "    _sdfTemp = pd.DataFrame.spatial.from_featureclass(_fn)\n",
    "    _sdfTemp = _sdfTemp[_sdfTemp[dFilterField].isin(dFilterValues)]\n",
    "    _sdfTemp= _sdfTemp[['FLD_ZONE','ZONE_SUBTY','SHAPE']]\n",
    "    #display(_sdfTemp)\n",
    "    sdfFP = pd.concat([sdfFP,_sdfTemp])\n",
    "\n",
    "display(sdfFP)\n"
   ]
  },
  {
   "cell_type": "code",
   "execution_count": 19,
   "metadata": {},
   "outputs": [
    {
     "data": {
      "text/plain": [
       "'e:\\\\WebAppBuilderForArcGIS_v2.20\\\\server\\\\apps\\\\15\\\\_dataprep\\\\intermediate\\\\floodplains.shp'"
      ]
     },
     "execution_count": 19,
     "metadata": {},
     "output_type": "execute_result"
    }
   ],
   "source": [
    "sdfFP.spatial.to_featureclass(os.path.join('intermediate','floodplains.shp'))"
   ]
  }
 ],
 "metadata": {
  "kernelspec": {
   "display_name": "Python 3",
   "language": "python",
   "name": "python3"
  },
  "language_info": {
   "codemirror_mode": {
    "name": "ipython",
    "version": 3
   },
   "file_extension": ".py",
   "mimetype": "text/x-python",
   "name": "python",
   "nbconvert_exporter": "python",
   "pygments_lexer": "ipython3",
   "version": "3.9.11"
  },
  "orig_nbformat": 4
 },
 "nbformat": 4,
 "nbformat_minor": 2
}
