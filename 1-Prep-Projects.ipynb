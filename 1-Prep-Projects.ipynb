{
 "cells": [
  {
   "cell_type": "code",
   "execution_count": 1,
   "metadata": {},
   "outputs": [],
   "source": [
    "import pandas as pd\n",
    "import os\n",
    "import numpy as np\n",
    "import matplotlib.ticker as mtick\n",
    "from IPython.display import display, Markdown\n",
    "\n",
    "import arcpy\n",
    "\n",
    "#import arcgis libraries\n",
    "from arcgis.gis import *\n",
    "gis = GIS()\n",
    "\n",
    "split_length = 0.125"
   ]
  },
  {
   "cell_type": "code",
   "execution_count": 2,
   "metadata": {},
   "outputs": [],
   "source": [
    "def delIfExists(obj):\n",
    "    try:\n",
    "        if arcpy.Exists(obj):\n",
    "            arcpy.Delete_management(obj)\n",
    "            #print (\"DELTED: \" + obj)\n",
    "        #else:\n",
    "            #print (\"DOESN'T EXIST: \" + obj)\n",
    "    except:\n",
    "        #print (\"PASSED: \" + obj)\n",
    "        pass"
   ]
  },
  {
   "cell_type": "code",
   "execution_count": 3,
   "metadata": {},
   "outputs": [
    {
     "name": "stdout",
     "output_type": "stream",
     "text": [
      "e:\\WebAppBuilderForArcGIS_v2.20\\server\\apps\\15\\_dataprep\\data\n",
      "e:\\WebAppBuilderForArcGIS_v2.20\\server\\apps\\15\\_dataprep\\intermediate\n",
      "e:\\WebAppBuilderForArcGIS_v2.20\\server\\apps\\15\\_dataprep\\results\n"
     ]
    },
    {
     "data": {
      "text/plain": [
       "'e:\\\\WebAppBuilderForArcGIS_v2.20\\\\server\\\\apps\\\\15\\\\_dataprep\\\\intermediate\\\\process.gdb'"
      ]
     },
     "execution_count": 3,
     "metadata": {},
     "output_type": "execute_result"
    }
   ],
   "source": [
    "working_directory = os.getcwd()\n",
    "data_folder         = os.path.join(working_directory, \"data\"        )\n",
    "intermediate_folder = os.path.join(working_directory, \"intermediate\")\n",
    "results_folder      = os.path.join(working_directory, \"results\"     )\n",
    "\n",
    "print(data_folder)\n",
    "print(intermediate_folder)\n",
    "print(results_folder)\n",
    "\n",
    "processGdb = os.path.join(intermediate_folder,'process.gdb')\n",
    "processGdb"
   ]
  },
  {
   "cell_type": "code",
   "execution_count": 5,
   "metadata": {},
   "outputs": [
    {
     "data": {
      "text/html": [
       "<div class='gpresult'><h2>Messages</h2><div id='messages' data-messages='[\"Start Time: Wednesday, May 3, 2023 4:25:00 PM\",\"Succeeded at Wednesday, May 3, 2023 4:25:01 PM (Elapsed Time: 0.76 seconds)\"]' data-show='true'><div id = 'default' /></div></div>"
      ],
      "text/plain": [
       "<Result 'e:\\\\WebAppBuilderForArcGIS_v2.20\\\\server\\\\apps\\\\15\\\\_dataprep\\\\intermediate\\\\process.gdb\\\\_rtp_proj_lines'>"
      ]
     },
     "execution_count": 5,
     "metadata": {},
     "output_type": "execute_result"
    }
   ],
   "source": [
    "# GET PROJECTS FROM WEB FEATURE CLASSES\n",
    "\n",
    "delIfExists(os.path.join(processGdb,'_rtp_proj_points'))\n",
    "delIfExists(os.path.join(processGdb,'_rtp_proj_lines' ))\n",
    "\n",
    "point_url_feature_class = \"https://services1.arcgis.com/taguadKoI1XFwivx/arcgis/rest/services/Final_2023_RTP_Projects/FeatureServer/0\"\n",
    "line_url_feature_class = \"https://services1.arcgis.com/taguadKoI1XFwivx/arcgis/rest/services/Final_2023_RTP_Projects/FeatureServer/1\"\n",
    "\n",
    "arcpy.FeatureClassToFeatureClass_conversion(point_url_feature_class, processGdb, '_rtp_proj_points')\n",
    "arcpy.FeatureClassToFeatureClass_conversion(line_url_feature_class , processGdb, '_rtp_proj_lines' )"
   ]
  },
  {
   "cell_type": "code",
   "execution_count": 7,
   "metadata": {},
   "outputs": [
    {
     "data": {
      "text/plain": [
       "'Processing polylines. Done processing: 1109 of 1109'"
      ]
     },
     "metadata": {},
     "output_type": "display_data"
    }
   ],
   "source": [
    "from IPython.display import clear_output, display\n",
    "\n",
    "# A TOGGLE TO SET SO THAT RUNNING NOTEBOOK AGAIN THIS PROCESS ISN'T REPEATED IF NOT NEEDED, ie if this is set to 'False' don't run\n",
    "bSplitSegs = True\n",
    "\n",
    "if bSplitSegs:\n",
    "\n",
    "    _fcIn  = os.path.join(processGdb,'_rtp_proj_lines')\n",
    "    _fcSeg = _fcIn + '_segs'\n",
    "\n",
    "    _fcRtpLinesSplitPointsTmp = _fcIn + '_split_points_tmp'\n",
    "    _fcRtpLinesSegsTmp = _fcIn + '_segs_tmp'\n",
    "\n",
    "    delIfExists(_fcSeg)\n",
    "\n",
    "    bFirst = True\n",
    "\n",
    "    # Create a search cursor for the feature class\n",
    "    fields = [\"OID@\", \"SHAPE@\", \"gis_id\", \"Mode\"]\n",
    "    cursor = arcpy.da.SearchCursor(_fcIn, fields)\n",
    "\n",
    "    # Get the total number of rows in the feature class\n",
    "    count = arcpy.GetCount_management(_fcIn)[0]\n",
    "\n",
    "    # need to loop through each polyline separately since there are overlapping projects and have to be treated separately\n",
    "    # Loop through each polyline in the input feature class\n",
    "    for i, row in enumerate(cursor):\n",
    "\n",
    "        # Get the OID and shape of the current polyline\n",
    "        oid      = row[0]\n",
    "        polyline = row[1]\n",
    "        gid      = row[2]\n",
    "        mode     = row[3]\n",
    "        \n",
    "        # delete temp layers\n",
    "        delIfExists(_fcRtpLinesSplitPointsTmp)\n",
    "        delIfExists(_fcRtpLinesSegsTmp)\n",
    "\n",
    "\n",
    "        # Generate points along the polyline at the specified interval\n",
    "        arcpy.GeneratePointsAlongLines_management(polyline, _fcRtpLinesSplitPointsTmp, 'DISTANCE', Distance = str(split_length) + ' miles')\n",
    "        \n",
    "        # Split the polyline at the generated points\n",
    "        arcpy.SplitLineAtPoint_management(polyline, _fcRtpLinesSplitPointsTmp, _fcRtpLinesSegsTmp, '5 feet')\n",
    "\n",
    "        \n",
    "        # Add a new field to the output feature class to store the original OID of the polyline\n",
    "        arcpy.AddField_management(_fcRtpLinesSegsTmp, \"gis_id\", \"TEXT\")\n",
    "        arcpy.AddField_management(_fcRtpLinesSegsTmp, \"Mode\"  , \"TEXT\")\n",
    "        \n",
    "        # Populate the ORIG_OID field with the OID of the original polyline\n",
    "        with arcpy.da.UpdateCursor(_fcRtpLinesSegsTmp, [\"gis_id\",\"Mode\"]) as update_cursor:\n",
    "            for update_row in update_cursor:\n",
    "                update_row[0] = gid\n",
    "                update_row[1] = mode\n",
    "                update_cursor.updateRow(update_row)\n",
    "\n",
    "        if bFirst:\n",
    "            arcpy.management.Copy(_fcRtpLinesSegsTmp, _fcSeg)\n",
    "            bFirst = False\n",
    "        else:\n",
    "            arcpy.management.Append(_fcRtpLinesSegsTmp, _fcSeg)\n",
    "\n",
    "        # Update the progressor\n",
    "        progress = \"Processing polylines. Done processing: \" + str(i+1) + \" of \" + str(count)\n",
    "        display(progress, display_id=\"progress\")\n",
    "\n",
    "        # Clear the previous progress message\n",
    "        clear_output(wait=True)\n",
    "\n",
    "    # Clean up the cursor and progressor\n",
    "    del cursor\n"
   ]
  },
  {
   "cell_type": "code",
   "execution_count": 8,
   "metadata": {},
   "outputs": [],
   "source": [
    "\n",
    "# delete temp layers\n",
    "delIfExists(_fcRtpLinesSplitPointsTmp)\n",
    "delIfExists(_fcRtpLinesSegsTmp)"
   ]
  }
 ],
 "metadata": {
  "kernelspec": {
   "display_name": "Python 3",
   "language": "python",
   "name": "python3"
  },
  "language_info": {
   "codemirror_mode": {
    "name": "ipython",
    "version": 3
   },
   "file_extension": ".py",
   "mimetype": "text/x-python",
   "name": "python",
   "nbconvert_exporter": "python",
   "pygments_lexer": "ipython3",
   "version": "3.9.11"
  },
  "orig_nbformat": 4
 },
 "nbformat": 4,
 "nbformat_minor": 2
}
