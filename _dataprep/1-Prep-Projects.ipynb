{
 "cells": [
  {
   "cell_type": "code",
   "execution_count": 1,
   "metadata": {},
   "outputs": [],
   "source": [
    "import pandas as pd\n",
    "import os\n",
    "import numpy as np\n",
    "import matplotlib.ticker as mtick\n",
    "from IPython.display import display, Markdown\n",
    "\n",
    "import arcpy\n",
    "\n",
    "#import arcgis libraries\n",
    "from arcgis.gis import *\n",
    "gis = GIS()\n",
    "\n",
    "\n",
    "split_length = .125 # miles"
   ]
  },
  {
   "cell_type": "code",
   "execution_count": 2,
   "metadata": {},
   "outputs": [],
   "source": [
    "def delIfExists(obj):\n",
    "    try:\n",
    "        if arcpy.Exists(obj):\n",
    "            arcpy.Delete_management(obj)\n",
    "            #print (\"DELTED: \" + obj)\n",
    "        #else:\n",
    "            #print (\"DOESN'T EXIST: \" + obj)\n",
    "    except:\n",
    "        #print (\"PASSED: \" + obj)\n",
    "        pass"
   ]
  },
  {
   "cell_type": "code",
   "execution_count": 3,
   "metadata": {},
   "outputs": [],
   "source": [
    "# project geodatabases\n",
    "dirPrj = r'G:\\Data\\Observatory\\Transportation\\RTP\\RTP_2023'\n",
    "working_directory = os.getcwd()\n",
    "intermediate_folder = os.path.join(working_directory, \"intermediate\")\n",
    "\n",
    "dfProjects = pd.DataFrame([\n",
    "    ['Roadway','points',r'RTP_2023_Roadway.gdb\\RTP_2023_Roadway_points'],\n",
    "    ['Roadway','lines' ,r'RTP_2023_Roadway.gdb\\RTP_2023_Roadway_lines' ],\n",
    "    ['Transit','points',r'RTP_2023_Transit.gdb\\RTP_2023_Transit_points'],\n",
    "    ['Transit','lines' ,r'RTP_2023_Transit.gdb\\RTP_2023_Transit_lines' ],\n",
    "    ['AT'     ,'points',r'RTP_2023_AT.gdb\\RTP_2023_AT_points'          ],\n",
    "    ['AT'     ,'lines' ,r'RTP_2023_AT.gdb\\RTP_2023_AT_lines'           ],\n",
    "],columns=('prjGroup','prjType','prjFC'))"
   ]
  },
  {
   "cell_type": "code",
   "execution_count": 4,
   "metadata": {},
   "outputs": [
    {
     "name": "stderr",
     "output_type": "stream",
     "text": [
      "c:\\Users\\bhereth\\AppData\\Local\\ESRI\\conda\\envs\\arcgispro-py3-clone-again-again\\lib\\site-packages\\pandas\\core\\indexing.py:1817: SettingWithCopyWarning: \n",
      "A value is trying to be set on a copy of a slice from a DataFrame.\n",
      "Try using .loc[row_indexer,col_indexer] = value instead\n",
      "\n",
      "See the caveats in the documentation: https://pandas.pydata.org/pandas-docs/stable/user_guide/indexing.html#returning-a-view-versus-a-copy\n",
      "  self._setitem_single_column(loc, value, pi)\n",
      "c:\\Users\\bhereth\\AppData\\Local\\ESRI\\conda\\envs\\arcgispro-py3-clone-again-again\\lib\\site-packages\\pandas\\core\\indexing.py:1817: SettingWithCopyWarning: \n",
      "A value is trying to be set on a copy of a slice from a DataFrame.\n",
      "Try using .loc[row_indexer,col_indexer] = value instead\n",
      "\n",
      "See the caveats in the documentation: https://pandas.pydata.org/pandas-docs/stable/user_guide/indexing.html#returning-a-view-versus-a-copy\n",
      "  self._setitem_single_column(loc, value, pi)\n",
      "c:\\Users\\bhereth\\AppData\\Local\\ESRI\\conda\\envs\\arcgispro-py3-clone-again-again\\lib\\site-packages\\pandas\\core\\indexing.py:1817: SettingWithCopyWarning: \n",
      "A value is trying to be set on a copy of a slice from a DataFrame.\n",
      "Try using .loc[row_indexer,col_indexer] = value instead\n",
      "\n",
      "See the caveats in the documentation: https://pandas.pydata.org/pandas-docs/stable/user_guide/indexing.html#returning-a-view-versus-a-copy\n",
      "  self._setitem_single_column(loc, value, pi)\n",
      "c:\\Users\\bhereth\\AppData\\Local\\ESRI\\conda\\envs\\arcgispro-py3-clone-again-again\\lib\\site-packages\\pandas\\core\\indexing.py:1817: SettingWithCopyWarning: \n",
      "A value is trying to be set on a copy of a slice from a DataFrame.\n",
      "Try using .loc[row_indexer,col_indexer] = value instead\n",
      "\n",
      "See the caveats in the documentation: https://pandas.pydata.org/pandas-docs/stable/user_guide/indexing.html#returning-a-view-versus-a-copy\n",
      "  self._setitem_single_column(loc, value, pi)\n",
      "c:\\Users\\bhereth\\AppData\\Local\\ESRI\\conda\\envs\\arcgispro-py3-clone-again-again\\lib\\site-packages\\pandas\\core\\indexing.py:1817: SettingWithCopyWarning: \n",
      "A value is trying to be set on a copy of a slice from a DataFrame.\n",
      "Try using .loc[row_indexer,col_indexer] = value instead\n",
      "\n",
      "See the caveats in the documentation: https://pandas.pydata.org/pandas-docs/stable/user_guide/indexing.html#returning-a-view-versus-a-copy\n",
      "  self._setitem_single_column(loc, value, pi)\n",
      "c:\\Users\\bhereth\\AppData\\Local\\ESRI\\conda\\envs\\arcgispro-py3-clone-again-again\\lib\\site-packages\\pandas\\core\\indexing.py:1817: SettingWithCopyWarning: \n",
      "A value is trying to be set on a copy of a slice from a DataFrame.\n",
      "Try using .loc[row_indexer,col_indexer] = value instead\n",
      "\n",
      "See the caveats in the documentation: https://pandas.pydata.org/pandas-docs/stable/user_guide/indexing.html#returning-a-view-versus-a-copy\n",
      "  self._setitem_single_column(loc, value, pi)\n"
     ]
    }
   ],
   "source": [
    "# Read the data into a Pandas dataframe\n",
    "sdfPrj_Lines  = pd.DataFrame()\n",
    "sdfPrj_Points = pd.DataFrame()\n",
    "\n",
    "\n",
    "# Loop through the rows of the original dataframe\n",
    "for index, row in dfProjects.iterrows():\n",
    "    _sdf = pd.DataFrame.spatial.from_featureclass(os.path.join(dirPrj,row['prjFC']))\n",
    "    #display(_sdf)\n",
    "    _sdf[['GIS_ID','SHAPE']].spatial.to_featureclass(os.path.join(intermediate_folder,'process.gdb\\\\_prj_' + row['prjGroup'] + '_' + row['prjType']), sanitize_columns=False)\n"
   ]
  },
  {
   "cell_type": "code",
   "execution_count": 5,
   "metadata": {},
   "outputs": [
    {
     "data": {
      "text/plain": [
       "'Processing polylines for AT_lines. Done processing: 673 of 673'"
      ]
     },
     "metadata": {},
     "output_type": "display_data"
    }
   ],
   "source": [
    "from IPython.display import clear_output, display\n",
    "\n",
    "# A TOGGLE TO SET SO THAT RUNNING NOTEBOOK AGAIN THIS PROCESS ISN'T REPEATED IF NOT NEEDED, ie if this is set to 'False' don't run\n",
    "bSplitSegs = True\n",
    "\n",
    "if bSplitSegs:\n",
    "\n",
    "    # Loop through the rows of the original dataframe\n",
    "    for index, row in dfProjects.iterrows():\n",
    "\n",
    "        _fcLayer = row['prjGroup'] + '_' + row['prjType']\n",
    "        _fcIn  = os.path.join(intermediate_folder,'process.gdb\\\\_prj_' + _fcLayer)\n",
    "        _fcSeg = _fcIn + '_segs'\n",
    "\n",
    "        _fcRtpLinesSplitPointsTmp = _fcIn + '_split_points_tmp'\n",
    "        _fcRtpLinesSegsTmp = _fcIn + '_segs_tmp'\n",
    "\n",
    "        if row['prjType'] == 'lines':\n",
    "            \n",
    "            delIfExists(_fcSeg)\n",
    "\n",
    "            bFirst = True\n",
    "\n",
    "            # Create a search cursor for the feature class\n",
    "            fields = [\"OID@\", \"SHAPE@\", \"gis_id\"]\n",
    "            cursor = arcpy.da.SearchCursor(_fcIn, fields)\n",
    "\n",
    "            # Get the total number of rows in the feature class\n",
    "            count = arcpy.GetCount_management(_fcIn)[0]\n",
    "\n",
    "            # need to loop through each polyline separately since there are overlapping projects and have to be treated separately\n",
    "            # Loop through each polyline in the input feature class\n",
    "            for i, row in enumerate(cursor):\n",
    "\n",
    "                # Get the OID and shape of the current polyline\n",
    "                oid      = row[0]\n",
    "                polyline = row[1]\n",
    "                gid      = row[2]\n",
    "                \n",
    "                # delete temp layers\n",
    "                delIfExists(_fcRtpLinesSplitPointsTmp)\n",
    "                delIfExists(_fcRtpLinesSegsTmp)\n",
    "\n",
    "\n",
    "                # Generate points along the polyline at the specified interval\n",
    "                arcpy.GeneratePointsAlongLines_management(polyline, _fcRtpLinesSplitPointsTmp, 'DISTANCE', Distance = str(split_length) + ' miles')\n",
    "                \n",
    "                # Split the polyline at the generated points\n",
    "                arcpy.SplitLineAtPoint_management(polyline, _fcRtpLinesSplitPointsTmp, _fcRtpLinesSegsTmp, '5 feet')\n",
    "\n",
    "                \n",
    "                # Add a new field to the output feature class to store the original OID of the polyline\n",
    "                arcpy.AddField_management(_fcRtpLinesSegsTmp, \"gis_id\", \"TEXT\")\n",
    "\n",
    "                # Populate the ORIG_OID field with the OID of the original polyline\n",
    "                with arcpy.da.UpdateCursor(_fcRtpLinesSegsTmp, [\"gis_id\"]) as update_cursor:\n",
    "                    for update_row in update_cursor:\n",
    "                        update_row[0] = gid\n",
    "                        update_cursor.updateRow(update_row)\n",
    "\n",
    "                if bFirst:\n",
    "                    arcpy.management.Copy(_fcRtpLinesSegsTmp, _fcSeg)\n",
    "                    bFirst = False\n",
    "                else:\n",
    "                    arcpy.management.Append(_fcRtpLinesSegsTmp, _fcSeg)\n",
    "\n",
    "                # Update the progressor\n",
    "                progress = \"Processing polylines for \" + _fcLayer + \". Done processing: \" + str(i+1) + \" of \" + str(count)\n",
    "                display(progress, display_id=\"progress\")\n",
    "\n",
    "                # Clear the previous progress message\n",
    "                clear_output(wait=True)\n",
    "\n",
    "            # Clean up the cursor and progressor\n",
    "            del cursor"
   ]
  },
  {
   "attachments": {},
   "cell_type": "markdown",
   "metadata": {},
   "source": [
    "Took 51m 48.6s"
   ]
  },
  {
   "cell_type": "code",
   "execution_count": 7,
   "metadata": {},
   "outputs": [],
   "source": [
    "\n",
    "# Loop through the rows of the original dataframe\n",
    "for index, row in dfProjects.iterrows():\n",
    "\n",
    "    _fcLayer = row['prjGroup'] + '_' + row['prjType']\n",
    "    _fcIn  = os.path.join(intermediate_folder,'process.gdb\\\\_prj_' + _fcLayer)\n",
    "\n",
    "    _fcRtpLinesSplitPointsTmp = _fcIn + '_split_points_tmp'\n",
    "    _fcRtpLinesSegsTmp = _fcIn + '_segs_tmp'\n",
    "\n",
    "    if row['prjType'] == 'lines':\n",
    "        # delete temp layers\n",
    "        delIfExists(_fcRtpLinesSplitPointsTmp)\n",
    "        delIfExists(_fcRtpLinesSegsTmp)"
   ]
  }
 ],
 "metadata": {
  "kernelspec": {
   "display_name": "Python 3",
   "language": "python",
   "name": "python3"
  },
  "language_info": {
   "codemirror_mode": {
    "name": "ipython",
    "version": 3
   },
   "file_extension": ".py",
   "mimetype": "text/x-python",
   "name": "python",
   "nbconvert_exporter": "python",
   "pygments_lexer": "ipython3",
   "version": "3.9.11"
  },
  "orig_nbformat": 4
 },
 "nbformat": 4,
 "nbformat_minor": 2
}
